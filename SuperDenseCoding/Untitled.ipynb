{
 "cells": [
  {
   "cell_type": "code",
   "execution_count": null,
   "id": "5bed6855",
   "metadata": {},
   "outputs": [],
   "source": [
    "#! /usr/bin/python3\n",
    "\n",
    "import sys\n",
    "import pennylane as qml\n",
    "from pennylane import numpy as np\n",
    "\n",
    "dev = qml.device(\"default.qubit\", wires=2)\n",
    "\n",
    "\n",
    "@qml.qnode(dev)\n",
    "def superdense_coding(bits, alpha):\n",
    "    \"\"\"Construct a quantum circuit that implements superdense coding, given a not necessarily maximally entangled state\n",
    "\n",
    "    Args:\n",
    "        - bits (int): 0 (binary: 00), 1 (binary: 01), 2 (binary: 10), or 3 (binary: 11), Alice's bits that she wants to communicate to Bob.\n",
    "        - alpha (float): angle parametrizing the entangled state\n",
    "\n",
    "    Returns:\n",
    "        - (np.tensor): Probability that Bob will guess Alice's bits correctly\n",
    "    \"\"\"\n",
    "\n",
    "    # QHACK #\n",
    "    \n",
    "    # Prepare entangled state here\n",
    "\n",
    "    def circuit(): #This is a maximally entangled state and are requesting a NOT necessaritly\n",
    "        qml.Hadamard(wires=0)\n",
    "        qml.CNOT(wires=[0, 1])\n",
    "        return qml.state()\n",
    "    \n",
    "    # Implement Alice's operations on her qubit here\n",
    "\n",
    "    if bits=0:\n",
    "        continue\n",
    "    elif bits=1:\n",
    "        qml.PauliX(wires=0)\n",
    "    elif bits=2:\n",
    "        qml.PauliZ(wires=0)\n",
    "    elif bits=3:\n",
    "        qml.PauliZ(wires=0)\n",
    "        qml.PauliX(wires=0)\n",
    "    else:\n",
    "        print(\"Incorrect bit introduced\")\n",
    "        break\n",
    "    \n",
    "    # Implement Bob's measurement procedure here\n",
    "\n",
    "    \n",
    "    qml.CNOT(wires=[0,1])\n",
    "    qml.Hadamard(wires=0)\n",
    "    qml.sample(qml.PauliZ(0)) #1000 shots by default (measure qubit A)\n",
    "    \n",
    "    # QHACK #\n",
    "\n",
    "    return qml.probs(wires=[0, 1])\n",
    "\n",
    "\n",
    "def return_probs(bits, alpha):\n",
    "    \"\"\"Returns the output of the superdense_coding function for a given index (bits)\"\"\"\n",
    "    # DO NOT MODIFY anything in this code block\n",
    "    return superdense_coding(bits, alpha)[bits].numpy()\n",
    "\n",
    "\n",
    "if __name__ == \"__main__\":\n",
    "    # DO NOT MODIFY anything in this code block\n",
    "    inputs = sys.stdin.read().split(\",\")\n",
    "    output = return_probs(int(inputs[0]), float(inputs[1]))\n",
    "    print(f\"{output:.6f}\")"
   ]
  },
  {
   "cell_type": "code",
   "execution_count": 37,
   "id": "6277a8b3",
   "metadata": {},
   "outputs": [],
   "source": [
    "import sys\n",
    "import pennylane as qml\n",
    "from pennylane import numpy as np\n",
    "\n",
    "dev = qml.device(\"default.qubit\", wires=2)\n",
    "@qml.qnode(dev)\n",
    "def circuit(): #This is a maximally entangled state and are requesting a NOT necessaritly\n",
    "        qml.Hadamard(wires=0)\n",
    "        qml.CNOT(wires=[0, 1])\n",
    "        return qml.state()"
   ]
  },
  {
   "cell_type": "code",
   "execution_count": 43,
   "id": "8c64d318",
   "metadata": {},
   "outputs": [
    {
     "name": "stdout",
     "output_type": "stream",
     "text": [
      "[0.70710678+0.j 0.        +0.j 0.        +0.j 0.70710678+0.j]\n"
     ]
    }
   ],
   "source": [
    "print(circuit())"
   ]
  },
  {
   "cell_type": "code",
   "execution_count": 53,
   "id": "e6b7e63c",
   "metadata": {},
   "outputs": [
    {
     "name": "stdout",
     "output_type": "stream",
     "text": [
      "(-0.7071067811865475+0j)\n"
     ]
    }
   ],
   "source": [
    "alpha=np.pi\n",
    "state=circuit()[0]*np.cos(alpha)\n",
    "print(state)"
   ]
  },
  {
   "cell_type": "markdown",
   "id": "f0658702",
   "metadata": {},
   "source": [
    "0>=(1,0)\n",
    "1>=(0,1)"
   ]
  },
  {
   "cell_type": "code",
   "execution_count": 36,
   "id": "cd8c6fe2",
   "metadata": {},
   "outputs": [
    {
     "ename": "IndentationError",
     "evalue": "unindent does not match any outer indentation level (<tokenize>, line 6)",
     "output_type": "error",
     "traceback": [
      "\u001b[1;36m  File \u001b[1;32m\"<tokenize>\"\u001b[1;36m, line \u001b[1;32m6\u001b[0m\n\u001b[1;33m    return qml.state()\u001b[0m\n\u001b[1;37m    ^\u001b[0m\n\u001b[1;31mIndentationError\u001b[0m\u001b[1;31m:\u001b[0m unindent does not match any outer indentation level\n"
     ]
    }
   ],
   "source": [
    "dev = qml.device(\"default.qubit\", wires=2)\n",
    "@qml.qnode(dev)\n",
    "def circuit():\n",
    "        qml.Hadamard(wires=0)\n",
    "        qml.CNOT(wires=[0, 1])\n",
    "    return qml.state()\n",
    "state=circuit()[0]*np.cos(np.pi)\n",
    "print(state)"
   ]
  },
  {
   "cell_type": "code",
   "execution_count": null,
   "id": "ed78d3a3",
   "metadata": {},
   "outputs": [],
   "source": []
  }
 ],
 "metadata": {
  "kernelspec": {
   "display_name": "Python 3",
   "language": "python",
   "name": "python3"
  },
  "language_info": {
   "codemirror_mode": {
    "name": "ipython",
    "version": 3
   },
   "file_extension": ".py",
   "mimetype": "text/x-python",
   "name": "python",
   "nbconvert_exporter": "python",
   "pygments_lexer": "ipython3",
   "version": "3.8.8"
  }
 },
 "nbformat": 4,
 "nbformat_minor": 5
}
